{
  "nbformat": 4,
  "nbformat_minor": 0,
  "metadata": {
    "colab": {
      "provenance": [],
      "authorship_tag": "ABX9TyNaBkGuXOO1EuMGmJLF6eNF",
      "include_colab_link": true
    },
    "kernelspec": {
      "name": "python3",
      "display_name": "Python 3"
    },
    "language_info": {
      "name": "python"
    }
  },
  "cells": [
    {
      "cell_type": "markdown",
      "metadata": {
        "id": "view-in-github",
        "colab_type": "text"
      },
      "source": [
        "<a href=\"https://colab.research.google.com/github/wallisonferreira/data-science/blob/master/Curso_Ada_Tech_Python.ipynb\" target=\"_parent\"><img src=\"https://colab.research.google.com/assets/colab-badge.svg\" alt=\"Open In Colab\"/></a>"
      ]
    },
    {
      "cell_type": "markdown",
      "source": [
        "# Atividade"
      ],
      "metadata": {
        "id": "gOJ_PcUumf2p"
      }
    },
    {
      "cell_type": "markdown",
      "source": [
        "Utilizamos listas para armazenar em um único objeto uma coleção de valores. Muitas vezes, desejamos criar uma nova lista a partir de uma lista original. Observe o código abaixo:\n",
        "\n",
        "<code>\n",
        "lista_inicial = [10, 5, -7, 6, -42, 63, -8, -5, 13]\n",
        "\n",
        "lista_final = []\n",
        "\n",
        "for item in lista_inicial:\n",
        "\n",
        "    if item % 2 == 0:\n",
        "\n",
        "        if item < 0:\n",
        "\n",
        "            lista_final.append(A)\n",
        "    \n",
        "        else:\n",
        "\n",
        "            lista_final.append(B)\n",
        "    else:\n",
        "\n",
        "        if item < 0:\n",
        "            \n",
        "            lista_final.append(C)\n",
        "    \n",
        "        else:\n",
        "\n",
        "            lista_final.append(D)\n",
        "</code>\n",
        "\n",
        "Qual deve ser o valor de A, B, C e D, respectivamente, para que o código acima gere a seguinte lista_final: [10, 10, 14, 6, 42, 126, 8, 10, 26]?"
      ],
      "metadata": {
        "id": "AvnUD6DOl4eS"
      }
    },
    {
      "cell_type": "code",
      "execution_count": 20,
      "metadata": {
        "id": "L-AfVGZ8_Owq",
        "colab": {
          "base_uri": "https://localhost:8080/"
        },
        "outputId": "6efc9495-a584-4a96-92af-3f9e7cfcc395"
      },
      "outputs": [
        {
          "output_type": "stream",
          "name": "stdout",
          "text": [
            "[10, 10, 14, 6, 42, 126, 8, 10, 26]\n"
          ]
        }
      ],
      "source": [
        "lista_inicial = [10, 5, -7, 6, -42, 63, -8, -5, 13]\n",
        "\n",
        "lista_final = []\n",
        "\n",
        "for item in lista_inicial:\n",
        "\n",
        "    if item % 2 == 0:\n",
        "\n",
        "        if item < 0:\n",
        "\n",
        "            lista_final.append(-item)\n",
        "    \n",
        "        else:\n",
        "\n",
        "            lista_final.append(item)\n",
        "    else:\n",
        "\n",
        "        if item < 0:\n",
        "            \n",
        "            lista_final.append(-2 * item)\n",
        "    \n",
        "        else:\n",
        "\n",
        "            lista_final.append(2*item)\n",
        "\n",
        "print(lista_final)"
      ]
    },
    {
      "cell_type": "code",
      "source": [
        "animais = ['gato', 'coelho', 'macaco', 'girafa']\n",
        "\n",
        "animais.remove('gato')\n",
        "print(animais)\n",
        "print(len(animais))\n",
        "print(animais.index('coelho'))"
      ],
      "metadata": {
        "colab": {
          "base_uri": "https://localhost:8080/"
        },
        "id": "FwwP51Kknskk",
        "outputId": "2d427d08-8ad4-47cc-9509-c95bfcf72970"
      },
      "execution_count": 21,
      "outputs": [
        {
          "output_type": "stream",
          "name": "stdout",
          "text": [
            "['coelho', 'macaco', 'girafa']\n",
            "3\n",
            "0\n"
          ]
        }
      ]
    }
  ]
}